{
 "cells": [
  {
   "cell_type": "markdown",
   "metadata": {},
   "source": [
    "# k-nearest neigbour (KNN)"
   ]
  },
  {
   "cell_type": "code",
   "execution_count": 1,
   "metadata": {},
   "outputs": [],
   "source": [
    "import numpy as np"
   ]
  },
  {
   "cell_type": "markdown",
   "metadata": {},
   "source": [
    "## Implementation of knn classifier\n",
    "\n",
    "Implementation with euklid-distance"
   ]
  },
  {
   "cell_type": "code",
   "execution_count": 2,
   "metadata": {},
   "outputs": [],
   "source": [
    "class MyKNN:\n",
    "    \n",
    "    def fit(self, X, Y, k=3):\n",
    "        self.Xtr = X\n",
    "        self.Ytr = Y\n",
    "        self.classes = list(np.unique(Y))\n",
    "        self.trainExamples, self.featDim = np.asarray(X).shape\n",
    "        self.k = k\n",
    "        \n",
    "    # compute the euclidean distance of two vektors\n",
    "    @staticmethod\n",
    "    def euclidean_distance(a, b):\n",
    "        return np.sqrt(np.sum(np.power(np.subtract(a,b),2)))\n",
    "    \n",
    "    def predict_vec(self, x):\n",
    "        # initialice the distance matrix\n",
    "        dist = np.zeros((self.trainExamples,2))\n",
    "\n",
    "        # compute distance from input feature vector to every feature vector in the trainings-set\n",
    "        for t in range(self.trainExamples):\n",
    "            # save the computed distance and the associated label\n",
    "            dist[t] = np.array([MyKNN.euclidean_distance(self.Xtr[t], x), self.Ytr[t]])\n",
    "\n",
    "        # sort the distances by shortest distance first\n",
    "        dist = dist[dist[:,0].argsort()]\n",
    "        # only keep the classes of those k-nearest nabours\n",
    "        knn = dist[:self.k,1]\n",
    "        # count how many unique classes are there\n",
    "        class_counter = np.bincount(knn.astype(int))\n",
    "        # get the class with the most frequency\n",
    "        predicted_class = np.argmax(class_counter)\n",
    "        \n",
    "        return predicted_class\n",
    "        \n",
    "    def predict(self, X):\n",
    "        out= []\n",
    "        for vec in X:\n",
    "            out.append(self.predict_vec(vec))\n",
    "        return (np.asarray(out))"
   ]
  },
  {
   "cell_type": "markdown",
   "metadata": {},
   "source": [
    "## Test algorithm\n",
    "\n",
    "Test the classifier with the iris-dataset from sklearn."
   ]
  },
  {
   "cell_type": "code",
   "execution_count": 3,
   "metadata": {},
   "outputs": [
    {
     "name": "stdout",
     "output_type": "stream",
     "text": [
      "dict_keys(['data', 'target', 'target_names', 'DESCR', 'feature_names', 'filename'])\n",
      ".. _iris_dataset:\n",
      "\n",
      "Iris plants dataset\n",
      "--------------------\n",
      "\n",
      "**Data Set Characteristics:**\n",
      "\n",
      "    :Number of Instances: 150 (50 in each of three classes)\n",
      "    :Number of Attributes: 4 numeric, predictive attributes and the class\n",
      "    :Attribute Information:\n",
      "        - sepal length in cm\n",
      "        - sepal width in cm\n",
      "        - petal length in cm\n",
      "        - petal width in cm\n",
      "        - class:\n",
      "                - Iris-Setosa\n",
      "                - Iris-Versicolour\n",
      "                - Iris-Virginica\n",
      "                \n",
      "    :Summary Statistics:\n",
      "\n",
      "    ============== ==== ==== ======= ===== ====================\n",
      "                    Min  Max   Mean    SD   Class Correlation\n",
      "    ============== ==== ==== ======= ===== ====================\n",
      "    sepal length:   4.3  7.9   5.84   0.83    0.7826\n",
      "    sepal width:    2.0  4.4   3.05   0.43   -0.4194\n",
      "    petal length:   1.0  6.9   3.76   1.76    0.9490  (high!)\n",
      "    petal width:    0.1  2.5   1.20   0.76    0.9565  (high!)\n",
      "    ============== ==== ==== ======= ===== ====================\n",
      "\n",
      "    :Missing Attribute Values: None\n",
      "    :Class Distribution: 33.3% for each of 3 classes.\n",
      "    :Creator: R.A. Fisher\n",
      "    :Donor: Michael Marshall (MARSHALL%PLU@io.arc.nasa.gov)\n",
      "    :Date: July, 1988\n",
      "\n",
      "The famous Iris database, first used by Sir R.A. Fisher. The dataset is taken\n",
      "from Fisher's paper. Note that it's the same as in R, but not as in the UCI\n",
      "Machine Learning Repository, which has two wrong data points.\n",
      "\n",
      "This is perhaps the best known database to be found in the\n",
      "pattern recognition literature.  Fisher's paper is a classic in the field and\n",
      "is referenced frequently to this day.  (See Duda & Hart, for example.)  The\n",
      "data set contains 3 classes of 50 instances each, where each class refers to a\n",
      "type of iris plant.  One class is linearly separable from the other 2; the\n",
      "latter are NOT linearly separable from each other.\n",
      "\n",
      ".. topic:: References\n",
      "\n",
      "   - Fisher, R.A. \"The use of multiple measurements in taxonomic problems\"\n",
      "     Annual Eugenics, 7, Part II, 179-188 (1936); also in \"Contributions to\n",
      "     Mathematical Statistics\" (John Wiley, NY, 1950).\n",
      "   - Duda, R.O., & Hart, P.E. (1973) Pattern Classification and Scene Analysis.\n",
      "     (Q327.D83) John Wiley & Sons.  ISBN 0-471-22361-1.  See page 218.\n",
      "   - Dasarathy, B.V. (1980) \"Nosing Around the Neighborhood: A New System\n",
      "     Structure and Classification Rule for Recognition in Partially Exposed\n",
      "     Environments\".  IEEE Transactions on Pattern Analysis and Machine\n",
      "     Intelligence, Vol. PAMI-2, No. 1, 67-71.\n",
      "   - Gates, G.W. (1972) \"The Reduced Nearest Neighbor Rule\".  IEEE Transactions\n",
      "     on Information Theory, May 1972, 431-433.\n",
      "   - See also: 1988 MLC Proceedings, 54-64.  Cheeseman et al\"s AUTOCLASS II\n",
      "     conceptual clustering system finds 3 classes in the data.\n",
      "   - Many, many more ...\n"
     ]
    }
   ],
   "source": [
    "from sklearn.datasets import load_iris\n",
    "\n",
    "dataset = load_iris()\n",
    "print(dataset.keys())\n",
    "print(dataset.DESCR)"
   ]
  },
  {
   "cell_type": "code",
   "execution_count": 4,
   "metadata": {},
   "outputs": [
    {
     "name": "stdout",
     "output_type": "stream",
     "text": [
      "['setosa' 'versicolor' 'virginica']\n",
      "['virginica']\n"
     ]
    }
   ],
   "source": [
    "Xtr = dataset.data\n",
    "Ytr = dataset.target\n",
    "print(dataset.target_names)\n",
    "\n",
    "#print(np.concatenate((dataset.data, dataset.target.reshape((150,1))), axis = 1))\n",
    "\n",
    "# example for virginica\n",
    "x = np.array([[5.9, 3.0, 5.1, 1.8]])\n",
    "\n",
    "knn = MyKNN()\n",
    "knn.fit(Xtr, Ytr)\n",
    "c= knn.predict(x)\n",
    "\n",
    "print(dataset.target_names[c])"
   ]
  },
  {
   "cell_type": "markdown",
   "metadata": {},
   "source": [
    "Testen des Klassifikators auf den gesamten Daten"
   ]
  },
  {
   "cell_type": "code",
   "execution_count": 5,
   "metadata": {},
   "outputs": [],
   "source": [
    "iris_dataset = load_iris()\n",
    "\n",
    "X=iris_dataset['data']\n",
    "y=iris_dataset['target']\n",
    "\n",
    "knn = MyKNN()\n",
    "knn.fit(X,y,3)\n",
    "o=knn.predict(X)"
   ]
  },
  {
   "cell_type": "code",
   "execution_count": 6,
   "metadata": {},
   "outputs": [
    {
     "name": "stdout",
     "output_type": "stream",
     "text": [
      "0.96\n",
      "Confusion Matrix\n",
      "[[50  0  0]\n",
      " [ 0 47  3]\n",
      " [ 0  3 47]]\n",
      "              precision    recall  f1-score   support\n",
      "\n",
      "           0       1.00      1.00      1.00        50\n",
      "           1       0.94      0.94      0.94        50\n",
      "           2       0.94      0.94      0.94        50\n",
      "\n",
      "    accuracy                           0.96       150\n",
      "   macro avg       0.96      0.96      0.96       150\n",
      "weighted avg       0.96      0.96      0.96       150\n",
      "\n"
     ]
    }
   ],
   "source": [
    "import sklearn.metrics as eval\n",
    "\n",
    "acc=eval.accuracy_score(y,o)\n",
    "\n",
    "print(acc)\n",
    "print(\"Confusion Matrix\")\n",
    "print(eval.confusion_matrix(y,o))\n",
    "print(eval.classification_report(y, o))"
   ]
  },
  {
   "cell_type": "markdown",
   "metadata": {},
   "source": [
    "Zerlegung der Daten in ein Training- und Testset"
   ]
  },
  {
   "cell_type": "code",
   "execution_count": 7,
   "metadata": {},
   "outputs": [
    {
     "name": "stdout",
     "output_type": "stream",
     "text": [
      "(112, 4)\n",
      "(38, 4)\n"
     ]
    }
   ],
   "source": [
    "from sklearn.model_selection import train_test_split\n",
    "\n",
    "(Xtr,Xte,ytr,yte)=train_test_split(X,y)\n",
    "\n",
    "print(Xtr.shape)\n",
    "print(Xte.shape)"
   ]
  },
  {
   "cell_type": "code",
   "execution_count": 8,
   "metadata": {},
   "outputs": [
    {
     "name": "stdout",
     "output_type": "stream",
     "text": [
      "0.9736842105263158\n",
      "Confusion Matrix\n",
      "[[12  0  0]\n",
      " [ 0 10  0]\n",
      " [ 0  1 15]]\n",
      "              precision    recall  f1-score   support\n",
      "\n",
      "           0       1.00      1.00      1.00        12\n",
      "           1       0.91      1.00      0.95        10\n",
      "           2       1.00      0.94      0.97        16\n",
      "\n",
      "    accuracy                           0.97        38\n",
      "   macro avg       0.97      0.98      0.97        38\n",
      "weighted avg       0.98      0.97      0.97        38\n",
      "\n"
     ]
    }
   ],
   "source": [
    "import sklearn.metrics as eval\n",
    "\n",
    "knn = MyKNN()\n",
    "knn.fit(Xtr,ytr,3)\n",
    "o=knn.predict(Xte)\n",
    "\n",
    "acc=eval.accuracy_score(yte,o)\n",
    "\n",
    "print(acc)\n",
    "print(\"Confusion Matrix\")\n",
    "print(eval.confusion_matrix(yte,o))\n",
    "\n",
    "\n",
    "print(eval.classification_report(yte, o))"
   ]
  },
  {
   "cell_type": "markdown",
   "metadata": {},
   "source": [
    "Bestimmung eines geeigneten Parameters k"
   ]
  },
  {
   "cell_type": "code",
   "execution_count": 16,
   "metadata": {},
   "outputs": [
    {
     "name": "stdout",
     "output_type": "stream",
     "text": [
      "(95, 4)\n",
      "(17, 4)\n",
      "k=1, val_accuracy=100.00% test_accuracy=94.74%\n",
      "k=3, val_accuracy=100.00% test_accuracy=97.37%\n",
      "k=5, val_accuracy=100.00% test_accuracy=97.37%\n",
      "k=7, val_accuracy=100.00% test_accuracy=97.37%\n",
      "k=9, val_accuracy=100.00% test_accuracy=97.37%\n",
      "k=11, val_accuracy=94.12% test_accuracy=97.37%\n",
      "k=13, val_accuracy=100.00% test_accuracy=94.74%\n",
      "k=15, val_accuracy=100.00% test_accuracy=94.74%\n",
      "k=17, val_accuracy=94.12% test_accuracy=94.74%\n",
      "k=19, val_accuracy=94.12% test_accuracy=92.11%\n",
      "k=21, val_accuracy=94.12% test_accuracy=92.11%\n",
      "k=23, val_accuracy=94.12% test_accuracy=86.84%\n",
      "k=25, val_accuracy=94.12% test_accuracy=86.84%\n",
      "k=27, val_accuracy=94.12% test_accuracy=84.21%\n",
      "k=29, val_accuracy=94.12% test_accuracy=84.21%\n"
     ]
    }
   ],
   "source": [
    "(Xtr_small,Xval,ytr_small,yval)=train_test_split(Xtr,ytr,test_size=0.15)\n",
    "\n",
    "print(Xtr_small.shape)\n",
    "print(Xval.shape)\n",
    "\n",
    "\n",
    "kVals = range(1, 30, 2) #start, stop,step\n",
    "accuracies=[]\n",
    "highest_idx=0\n",
    "highest_acc=0\n",
    "idx=0\n",
    "for k in kVals:\n",
    "    myModel = MyKNN()\n",
    "    myModel.fit(Xtr_small,ytr_small,k)\n",
    "    val_res=myModel.predict(Xval)\n",
    "    score_val = eval.accuracy_score(yval,val_res)\n",
    "    test_res=myModel.predict(Xte)\n",
    "    score_test = eval.accuracy_score(yte,test_res)\n",
    "    if highest_acc <= score_test:\n",
    "        highest_acc=score_test\n",
    "        highest_idx=idx\n",
    "    idx=idx+1\n",
    "    print(f\"k={k}, val_accuracy={score_val * 100:.2f}% test_accuracy={score_test *100:.2f}%\")\n",
    "    accuracies.append(score_val)"
   ]
  },
  {
   "cell_type": "markdown",
   "metadata": {},
   "source": [
    "Verwenden Sie eine Kreuzvalidierung zur Bestimmung von k\n",
    "\n"
   ]
  },
  {
   "cell_type": "code",
   "execution_count": 17,
   "metadata": {},
   "outputs": [
    {
     "name": "stdout",
     "output_type": "stream",
     "text": [
      "k=1, avg_score=95.53%\n",
      "k=3, avg_score=94.70%\n",
      "k=5, avg_score=95.45%\n",
      "k=7, avg_score=95.53%\n",
      "k=9, avg_score=93.86%\n",
      "k=11, avg_score=95.61%\n",
      "k=13, avg_score=95.61%\n",
      "k=15, avg_score=93.86%\n",
      "k=17, avg_score=94.70%\n",
      "k=19, avg_score=93.86%\n",
      "k=21, avg_score=93.03%\n",
      "k=23, avg_score=93.03%\n",
      "k=25, avg_score=93.03%\n",
      "k=27, avg_score=93.03%\n",
      "k=29, avg_score=93.03%\n"
     ]
    }
   ],
   "source": [
    "from sklearn.neighbors import KNeighborsClassifier\n",
    "\n",
    "#model.fit(trainData, trainLabels)\n",
    "\n",
    "from sklearn.model_selection import cross_validate\n",
    "\n",
    "\n",
    "kVals = range(1, 30, 2) #start, stop,step\n",
    "for k in kVals:\n",
    "    model = KNeighborsClassifier(n_neighbors=k)\n",
    "    cv_results = cross_validate(model, Xtr, ytr, cv=10)\n",
    "    avg_score = np.average(cv_results['test_score'])\n",
    "    print(f\"k={k}, avg_score={avg_score * 100:.2f}%\")"
   ]
  }
 ],
 "metadata": {
  "kernelspec": {
   "display_name": "Python 3",
   "language": "python",
   "name": "python3"
  },
  "language_info": {
   "codemirror_mode": {
    "name": "ipython",
    "version": 3
   },
   "file_extension": ".py",
   "mimetype": "text/x-python",
   "name": "python",
   "nbconvert_exporter": "python",
   "pygments_lexer": "ipython3",
   "version": "3.6.9"
  }
 },
 "nbformat": 4,
 "nbformat_minor": 4
}
